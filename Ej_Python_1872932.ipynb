{
 "cells": [
  {
   "cell_type": "markdown",
   "id": "4cad4a87",
   "metadata": {},
   "source": [
    "# Ejercicios básicos de Python\n",
    "\n",
    "**Nombre:** Daniela Paola Huerta Torres \n",
    "\n",
    "**Matricula:** 1872932\n",
    "\n",
    "**Grupo:** 002 \n",
    "\n",
    "\n",
    " \n",
    "* Programa 1 Hola mundo"
   ]
  },
  {
   "cell_type": "code",
   "execution_count": 4,
   "id": "8d204235",
   "metadata": {},
   "outputs": [
    {
     "name": "stdout",
     "output_type": "stream",
     "text": [
      "Hola mundo!!\n"
     ]
    }
   ],
   "source": [
    "print(\"Hola mundo!!\")"
   ]
  },
  {
   "cell_type": "markdown",
   "id": "45a21133",
   "metadata": {},
   "source": [
    "## Ejercicio 1:\n",
    "\n",
    "Realiza una variable con tu matricula y realiza una secuencia de imprimir con tu nombre y matricula concatenados"
   ]
  },
  {
   "cell_type": "code",
   "execution_count": 6,
   "id": "7d34190e",
   "metadata": {},
   "outputs": [
    {
     "name": "stdout",
     "output_type": "stream",
     "text": [
      "Daniela Paola Huerta Torres 1872932\n"
     ]
    }
   ],
   "source": [
    "matricula=1872932\n",
    "nom='Daniela Paola Huerta Torres'\n",
    "print(nom,matricula)"
   ]
  },
  {
   "cell_type": "markdown",
   "id": "67dd1761",
   "metadata": {},
   "source": [
    "## Ejercicio 2\n",
    "\n",
    "Pidiendo el input del usuario pide dos números y crea una pequeña calculadora con los operadores básicos de suma, resta, multiplicación, división y exponente.\n",
    "\n",
    "Utilizando el loop while"
   ]
  },
  {
   "cell_type": "code",
   "execution_count": 34,
   "id": "a8b1c10f",
   "metadata": {},
   "outputs": [
    {
     "name": "stdout",
     "output_type": "stream",
     "text": [
      "Ingresa un número: 10\n",
      "Ingresa otro número: 2\n",
      "La suma de los números es:  12.0\n",
      "La resta de los números es:  -1.0\n",
      "El producto de los números es:  20.0\n",
      "El cociente de los números es:  5.0\n",
      "El número 1 elevado a la potencia número 2 es:  100.0\n"
     ]
    }
   ],
   "source": [
    "n1=float(input(\"Ingresa un número: \"))\n",
    "n2=float(input(\"Ingresa otro número: \"))\n",
    "suma=n1+n2\n",
    "resta=1-n2\n",
    "mult=n1*n2\n",
    "div=n1/n2\n",
    "ex=n1**n2\n",
    "print(\"La suma de los números es: \",suma)\n",
    "print(\"La resta de los números es: \",resta)\n",
    "print(\"El producto de los números es: \",mult)\n",
    "print(\"El cociente de los números es: \",div)\n",
    "print(\"El número 1 elevado a la potencia número 2 es: \",ex)"
   ]
  },
  {
   "cell_type": "markdown",
   "id": "2eb8235e",
   "metadata": {},
   "source": [
    "## Ejercicio 3:\n",
    "\n",
    "Con loop while o for, realiza lista de 10 números multiplos de 3, y después realiza una función de loop que sume todos los números dentro del arreglo."
   ]
  },
  {
   "cell_type": "code",
   "execution_count": 35,
   "id": "2ba4e029",
   "metadata": {},
   "outputs": [
    {
     "name": "stdout",
     "output_type": "stream",
     "text": [
      "[0, 3, 6, 9, 12, 15, 18, 21, 24, 27, 30]\n",
      "La suma de los números es:  165\n"
     ]
    }
   ],
   "source": [
    "n=[]\n",
    "i=0\n",
    "while len(n)<=10:\n",
    "    if i%3==0:\n",
    "        n.append(i)\n",
    "    i=i+1\n",
    "print(n)\n",
    "\n",
    "suma=0\n",
    "for n in n:\n",
    "    suma=suma+n\n",
    "print(\"La suma de los números es: \",suma)"
   ]
  },
  {
   "cell_type": "markdown",
   "id": "8ea70e25",
   "metadata": {},
   "source": [
    "## Ejercicio 4\n",
    "\n",
    "* Con una función de if else, revisar si un número es par o es impar.\n",
    "* Con una función de if else, revisar si un número es primo o no.\n"
   ]
  },
  {
   "cell_type": "markdown",
   "id": "4a197606",
   "metadata": {},
   "source": [
    "Revisar si un número es par o es impar."
   ]
  },
  {
   "cell_type": "code",
   "execution_count": 18,
   "id": "ebf19f50",
   "metadata": {},
   "outputs": [
    {
     "name": "stdout",
     "output_type": "stream",
     "text": [
      "Ingresa un número: 18\n",
      "El número es par\n"
     ]
    }
   ],
   "source": [
    "n=float(input(\"Ingresa un número: \"))\n",
    "if n%2==0:\n",
    "    print(\"El número es par\")\n",
    "else:\n",
    "    print(\"El número es impar\")"
   ]
  },
  {
   "cell_type": "markdown",
   "id": "963f227a",
   "metadata": {},
   "source": [
    "Revisar si un número es primo o no"
   ]
  },
  {
   "cell_type": "code",
   "execution_count": 30,
   "id": "7fd112d4",
   "metadata": {},
   "outputs": [
    {
     "name": "stdout",
     "output_type": "stream",
     "text": [
      "Ingresa un número: 5\n",
      "El número es primo\n"
     ]
    }
   ],
   "source": [
    "n=int(input(\"Ingresa un número: \"))\n",
    "div=0\n",
    "for i in range(2,n):\n",
    "    if n%i==0:\n",
    "        div=div+1\n",
    "    else:\n",
    "        continue\n",
    "if div==0:\n",
    "    print(\"El número es primo\")\n",
    "else:\n",
    "    print(\"El número no es primo\")"
   ]
  },
  {
   "cell_type": "markdown",
   "id": "8df1279f",
   "metadata": {},
   "source": [
    "## Ejercicio 5\n",
    "\n",
    "Utilizando diferentes clases en python, crea una calculadora con los operadores básicos de suma, resta, multiplicación, división, y exponente.\n",
    "\n",
    "Funciones matemáticas en la librería de math en python:"
   ]
  },
  {
   "cell_type": "code",
   "execution_count": 38,
   "id": "672c16a1",
   "metadata": {},
   "outputs": [
    {
     "name": "stdout",
     "output_type": "stream",
     "text": [
      "Ingresa una opción:\n",
      "1. Suma\n",
      "2. Resta\n",
      "3. Multiplicación\n",
      "4. División\n",
      "5. Exponente\n",
      "6. Salir\n",
      "\n",
      "Respuesta:4\n",
      "Ingresa el dividendo: 0\n",
      "Ingresa el divisor: 6\n",
      "El cociente de los números es:  0.0\n",
      "Ingresa una opción:\n",
      "1. Suma\n",
      "2. Resta\n",
      "3. Multiplicación\n",
      "4. División\n",
      "5. Exponente\n",
      "6. Salir\n",
      "\n",
      "Respuesta:2\n",
      "Ingresa un número: 6\n",
      "Ingresa otro número: 0\n",
      "La resta de los números es:  6.0\n",
      "Ingresa una opción:\n",
      "1. Suma\n",
      "2. Resta\n",
      "3. Multiplicación\n",
      "4. División\n",
      "5. Exponente\n",
      "6. Salir\n",
      "\n",
      "Respuesta:6\n"
     ]
    }
   ],
   "source": [
    "def suma(n1,n2):\n",
    "    su=n1+n2\n",
    "    return su\n",
    "\n",
    "def resta(n1,n2):\n",
    "    res=n1-n2\n",
    "    return res\n",
    "\n",
    "def mult(n1,n2):\n",
    "    mul=n1*n2\n",
    "    return mul\n",
    "\n",
    "def div(n1,n2):\n",
    "    divi=n1/n2\n",
    "    return divi\n",
    "\n",
    "def exp(n1,n2):\n",
    "    e=n1**n2\n",
    "    return e\n",
    "\n",
    "op=1\n",
    "while op!=6:\n",
    "    op=int(input(\"Ingresa una opción:\\n1. Suma\\n2. Resta\\n3. Multiplicación\\n4. División\\n5. Exponente\\n6. Salir\\n\\nRespuesta:\"))\n",
    "    while op<1 or op>6:\n",
    "        op=int(input(\"Ingresa una opción válida. Respuesta: \"))\n",
    "    if op==1:\n",
    "        a=float(input(\"Ingresa un número: \"))\n",
    "        b=float(input(\"Ingresa otro número: \"))\n",
    "        sm=suma(a,b)\n",
    "        print(\"La suma de los números es: \",sm)\n",
    "    if op==2:\n",
    "        a=float(input(\"Ingresa un número: \"))\n",
    "        b=float(input(\"Ingresa otro número: \"))\n",
    "        rs=resta(a,b)\n",
    "        print(\"La resta de los números es: \",rs)\n",
    "    if op==3:\n",
    "        a=float(input(\"Ingresa un número: \"))\n",
    "        b=float(input(\"Ingresa otro número: \"))\n",
    "        ml=mul(a,b)\n",
    "        print(\"El producto de los números es: \",ml)\n",
    "    if op==4:\n",
    "        a=float(input(\"Ingresa el dividendo: \"))\n",
    "        b=float(input(\"Ingresa el divisor: \"))\n",
    "        dv=div(a,b)\n",
    "        print(\"El cociente de los números es: \",dv)\n",
    "    if op==5:\n",
    "        a=float(input(\"Ingresa un número: \"))\n",
    "        b=float(input(\"Ingresa la potencia: \"))\n",
    "        e=exp(a,b)\n",
    "        print(\"El número elevado a la potencia es: \",e)"
   ]
  },
  {
   "cell_type": "markdown",
   "id": "9a9aba87",
   "metadata": {},
   "source": [
    "## Ejercicios con estructuras básicas de python\n",
    "\n",
    "**Tuplas**\n",
    "* Crear una variable flotante, integer, boleana y compleja e imprimir el tipo de variable que es"
   ]
  },
  {
   "cell_type": "code",
   "execution_count": 43,
   "id": "263dbd93",
   "metadata": {},
   "outputs": [
    {
     "name": "stdout",
     "output_type": "stream",
     "text": [
      "El número a es 0.025 y es del tipo <class 'float'>\n",
      "El número b es 104 y es del tipo <class 'int'>\n",
      "La variable c es True y es del tipo <class 'bool'>\n",
      "El número d es (6-2j) y es del tipo <class 'complex'>\n"
     ]
    }
   ],
   "source": [
    "a=0.025\n",
    "tipo=type(a)\n",
    "print(\"El número a es\",a,\"y es del tipo\",tipo)\n",
    "b=104\n",
    "tipo=type(b)\n",
    "print(\"El número b es\",b,\"y es del tipo\",tipo)\n",
    "c=True\n",
    "tipo=type(c)\n",
    "print(\"La variable c es\",c,\"y es del tipo\",tipo)\n",
    "d=6-2j\n",
    "tipo=type(d)\n",
    "print(\"El número d es\",d,\"y es del tipo\",tipo)"
   ]
  },
  {
   "cell_type": "markdown",
   "id": "46404e65",
   "metadata": {},
   "source": [
    "* Crear una tupla con valores enteros imprimir el primer y ultimo valor."
   ]
  },
  {
   "cell_type": "code",
   "execution_count": 47,
   "id": "96454649",
   "metadata": {},
   "outputs": [
    {
     "name": "stdout",
     "output_type": "stream",
     "text": [
      "El primer valor es:  3\n",
      "El último valor es:  30\n"
     ]
    }
   ],
   "source": [
    "lis=(3,6,9,12,15,18,24,27,30)\n",
    "prim=lis[0]\n",
    "n=len(lis)\n",
    "ul=lis[n-1]\n",
    "print(\"El primer valor es: \",prim)\n",
    "print(\"El último valor es: \",ul)"
   ]
  },
  {
   "cell_type": "markdown",
   "id": "cd4932e3",
   "metadata": {},
   "source": [
    "* Añadir 3 valores de string a la tupla.\n",
    "\n",
    "* Verificar si una variable existe dentro de la tupla"
   ]
  },
  {
   "cell_type": "code",
   "execution_count": 50,
   "id": "f2a5a0c3",
   "metadata": {},
   "outputs": [
    {
     "name": "stdout",
     "output_type": "stream",
     "text": [
      "('Que', 'bonito', 'día')\n",
      "Variable a buscar en la tupla: 1\n",
      "La variable no está en la tupla\n"
     ]
    }
   ],
   "source": [
    "ar=('Que','bonito','día')\n",
    "print(ar)\n",
    "var=input(\"Variable a buscar en la tupla: \")\n",
    "if var in ar:\n",
    "    print(\"La variable está en la tupla\")\n",
    "else:\n",
    "    print(\"La variable no está en la tupla\")"
   ]
  },
  {
   "cell_type": "markdown",
   "id": "bbd6c085",
   "metadata": {},
   "source": [
    "**Lista**\n",
    "* Crear una lista con 40 elementos aleatorios enteros.\n",
    "* Con una funcion (def) crear dos listas nuevas a partir de la lista creada por numeros aleatorios, en la cual en una esten los elementos pares, y en la otra los elementos impares.\n",
    "* Crear dos variables con la longitud de ambas listas nuevas e imprimir las variables.\n",
    "* Ordenar los elementos de la lista par de mayor a menor, y los de la lista impar de menor a mayor.\n",
    "* Utilizar al menos cuatro de las funciones de listas en python en la lista original de 40 elementos."
   ]
  },
  {
   "cell_type": "code",
   "execution_count": 53,
   "id": "65be9643",
   "metadata": {},
   "outputs": [
    {
     "name": "stdout",
     "output_type": "stream",
     "text": [
      "La lista es: [190, 77, 393, 4, 169, 166, 269, 366, 238, 225, 376, 237, 401, 131, 164, 214, 492, 122, 367, 67, 477, 364, 489, 123, 315, 369, 201, 473, 231, 285, 1, 84, 22, 404, 487, 63, 490, 141, 183, 75]\n",
      "Los pares de la lista son:  [190, 4, 166, 366, 238, 376, 164, 214, 492, 122, 364, 84, 22, 404, 490] \n",
      "Los impares de la lista son:  [77, 393, 169, 269, 225, 237, 401, 131, 367, 67, 477, 489, 123, 315, 369, 201, 473, 231, 285, 1, 487, 63, 141, 183, 75]\n",
      "La cantidad de pares es:  15 \n",
      "La cantidad de impares es: 25\n",
      "Los números pares ordenados de mayor a menor:  [492, 490, 404, 376, 366, 364, 238, 214, 190, 166, 164, 122, 84, 22, 4]\n",
      "Los números impares ordenados de menor a mayor son:  [1, 63, 67, 75, 77, 123, 131, 141, 169, 183, 201, 225, 231, 237, 269, 285, 315, 367, 369, 393, 401, 473, 477, 487, 489]\n",
      "La suma de los 40 números es:  9945\n",
      "El promedio de los 40 números es:  248.625\n",
      "El menor de los 40 números es:  1\n",
      "El mayor de los 40 número es:  492\n",
      "La suma de los 3 números mayores es:  1471\n"
     ]
    }
   ],
   "source": [
    "import random #Se crea lista con numeros aleatorios\n",
    "def par(l):\n",
    "    par=list() #Se denomina si es par\n",
    "    for a in l:\n",
    "        if a%2==0:\n",
    "            par.append(a)\n",
    "    return par\n",
    "\n",
    "def impar(l): #Se denomina si es impar\n",
    "    impar=list()\n",
    "    for a in l:\n",
    "        if a%2!=0:\n",
    "            impar.append(a)\n",
    "    return impar\n",
    "\n",
    "l1=list()\n",
    "l2=list()\n",
    "R=range(0,501) #rango de los valores de la lista estan entre 0 a 500\n",
    "l=random.sample(R,40) #se eligen los valores de la lista de manera aleatoria\n",
    "print(\"La lista es:\",l)\n",
    "l1=par(l)\n",
    "l2=impar(l)\n",
    "print(\"Los pares de la lista son: \",l1,\"\\nLos impares de la lista son: \",l2)\n",
    "lp=len(l1)\n",
    "li=len(l2)\n",
    "print(\"La cantidad de pares es: \",lp,\"\\nLa cantidad de impares es:\",li)\n",
    "l2.sort()\n",
    "l1ord=sorted(l1,reverse=True) \n",
    "l1=l1ord\n",
    "print(\"Los números pares ordenados de mayor a menor: \",l1)\n",
    "print(\"Los números impares ordenados de menor a mayor son: \",l2)\n",
    "s=sum(l)\n",
    "p=s/40\n",
    "l.sort() #Se ordena la lista\n",
    "mn=min(l)\n",
    "mx=max(l)\n",
    "spm=sum(l[37:40])\n",
    "print(\"La suma de los 40 números es: \",s)\n",
    "print(\"El promedio de los 40 números es: \",p)\n",
    "print(\"El menor de los 40 números es: \",mn)\n",
    "print(\"El mayor de los 40 número es: \",mx)\n",
    "print(\"La suma de los 3 números mayores es: \",spm)"
   ]
  },
  {
   "cell_type": "markdown",
   "id": "2f3af6f7",
   "metadata": {},
   "source": [
    "**Diccionarios**\n",
    "* Crear un diccionario de 6 personas que conozcas con su primer nombre y su edad.\n",
    "\n",
    "* Crear una lista con los valores de la edad y reacomodar la lista de menor a mayor valor.\n",
    "\n",
    "* Usando el diccionario y un loop, imprimir solo los nombres.\n",
    "\n",
    "* Añadir dos personas nuevas a tu diccionario, incluyendo edad."
   ]
  },
  {
   "cell_type": "code",
   "execution_count": 55,
   "id": "23640996",
   "metadata": {},
   "outputs": [
    {
     "name": "stdout",
     "output_type": "stream",
     "text": [
      "La personas con sus edades son:  {'Stefany': 24, 'Brenda': 44, 'Diego': 22, 'Gabriel': 32, 'Leticia': 21, 'Fernando': 23}\n",
      "Las edades de menor a mayor valor son [21, 22, 23, 24, 32, 44]\n",
      "Los nombres son: \n",
      "Stefany\n",
      "Brenda\n",
      "Diego\n",
      "Gabriel\n",
      "Leticia\n",
      "Fernando\n",
      "La nueva agenda es:  {'Stefany': 24, 'Brenda': 44, 'Diego': 22, 'Gabriel': 32, 'Leticia': 21, 'Fernando': 23, 'Yaritza': 20, 'Cielo': 20}\n"
     ]
    }
   ],
   "source": [
    "diario={'Stefany':24,'Brenda':44,'Diego':22,'Gabriel':32,'Leticia':21,'Fernando':23}\n",
    "edades=list()\n",
    "print(\"La personas con sus edades son: \",diario)\n",
    "for e in diario:\n",
    "    edades.append(diario[e])\n",
    "edades.sort()\n",
    "print(\"Las edades de menor a mayor valor son\",edades)\n",
    "print(\"Los nombres son: \")\n",
    "nombres=diario.keys() \n",
    "for nombre in nombres:\n",
    "    print(nombre)\n",
    "diario['Yaritza']=20\n",
    "diario['Cielo']=20\n",
    "print(\"La nueva agenda es: \",diario)"
   ]
  },
  {
   "cell_type": "markdown",
   "id": "f2210cd8",
   "metadata": {},
   "source": [
    "**Sets**\n",
    "\n",
    "* Crea un set con 100 numeros aleatorios enteros del 1 al 25.\n",
    "\n",
    "* Comprueba la longitud de tu set.\n",
    "\n",
    "* Crea una lista de 5 numeros aleatorios del 1 al 10 y comprueba si cada valor aparece en el set inicial"
   ]
  },
  {
   "cell_type": "code",
   "execution_count": 66,
   "id": "31ef6603",
   "metadata": {},
   "outputs": [
    {
     "name": "stdout",
     "output_type": "stream",
     "text": [
      "El set es: {1, 2, 3, 4, 5, 6, 7, 8, 9, 10, 11, 12, 13, 14, 15, 16, 17, 18, 19, 20, 21, 22, 23, 24, 25}\n",
      "La longitud del set es:  25\n",
      "La lista de 5 números aleatorios es:  [8, 4, 0, 3, 10]\n",
      "El número  8  está en el set.\n",
      "El número  4  está en el set.\n",
      "El número  0  no está en el set.\n",
      "El número  3  está en el set.\n",
      "El número  10  está en el set.\n"
     ]
    }
   ],
   "source": [
    "import random\n",
    "set1=set()\n",
    "lrn=list()\n",
    "for i in range(0,101):\n",
    "    rn=random.randint(1,25)\n",
    "    set1.add(rn)\n",
    "print(\"El set es:\",set1)\n",
    "l=len(set1)\n",
    "print(\"La longitud del set es: \",l)\n",
    "for i in range(0,5):\n",
    "    rn=random.randint(0,10)\n",
    "    lrn.append(rn)\n",
    "print(\"La lista de 5 números aleatorios es: \",lrn)\n",
    "for n in lrn:\n",
    "    if n in set1:\n",
    "        print(\"El número \",n,\" está en el set.\")\n",
    "    else:\n",
    "        print(\"El número \",n,\" no está en el set.\")"
   ]
  }
 ],
 "metadata": {
  "kernelspec": {
   "display_name": "Python 3",
   "language": "python",
   "name": "python3"
  },
  "language_info": {
   "codemirror_mode": {
    "name": "ipython",
    "version": 3
   },
   "file_extension": ".py",
   "mimetype": "text/x-python",
   "name": "python",
   "nbconvert_exporter": "python",
   "pygments_lexer": "ipython3",
   "version": "3.8.8"
  }
 },
 "nbformat": 4,
 "nbformat_minor": 5
}
