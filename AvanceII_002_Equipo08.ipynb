{
 "cells": [
  {
   "cell_type": "markdown",
   "id": "ce6b99f0",
   "metadata": {},
   "source": [
    "# SEGUNDO AVANCE DEL PÍA\n",
    "\n",
    "**Equipo:** 8\n",
    "\n",
    "**Grupo:** 002 (Miercoles 7-10 pm)\n",
    "\n",
    "**Integrantes:**\n",
    "\n",
    "* 1872932 Huerta Torres Daniela Paola\n",
    "* 1855188 Aguilar Ortiz Verónica Vanessa\n",
    "* 1751125 Rodríguez Chaires Fernando Jahir\n",
    "* 1857876 Jalomo Hernández Miguel Ángel"
   ]
  },
  {
   "cell_type": "markdown",
   "id": "c3f690ec",
   "metadata": {},
   "source": [
    "### Base de datos \n",
    "\n",
    "* **Nombre:** Conjunto de datos de predicción de accidentes cerebrovasculares\n",
    "* **URL:**  https://www.kaggle.com/fedesoriano/stroke-prediction-dataset/tasks?taskId=3281"
   ]
  },
  {
   "cell_type": "markdown",
   "id": "e166bf53",
   "metadata": {},
   "source": [
    "### Descripción de datos\n",
    "* **Id:** Identificación única.\n",
    "* **Género:** El tipo de dato tipo texto. Masculino, Femenino u otro.\n",
    "* **Edad:** Dato tipo entero. Edad del paciente.\n",
    "* **Característica binaria de hipertensión:** Tipo entero. Si el paciente cuenta con hipertensión = 1, si no cuenta con hipertensión = 0.\n",
    "* **Característica binaria de enfermedad cardíaca:** Tipo entero. Si el paciente cuenta con una enfermedad cardíaca = 1, si el paciente no cuenta con una enfermedad cardíaca = 0.\n",
    "* **¿El paciente ha estado casado alguna vez?:** Dato tipo texto. Estatus marital (cierto u falso).\n",
    "* **Tipo de trabajo del paciente:** Dato tipo texto. Tipo de empleo (Privado, Cuenta propia, etc.)\n",
    "* **Tipo de residencia del paciente:** Dato tipo texto. Rural o Urbano.\n",
    "* **Nivel medio de glucosa en sangre:** Dato tipo flotante. Nivel medio de glucosa en sangre de una persona.\n",
    "* **Índice de masa corporal:** Dato tipo flotante. Índice de masa corporal de una persona.\n",
    "* **Estatud de fumadores:** Dato tipo texto. \"anteriormente fumado\", \"nunca fumado\", \"fuma\"o \"Desconocido\" *\n",
    "* **Accidente cerebrovascular:** Dato tipo entero. Se considera 1 si el paciente tuvo un accidente cerebrovascular o 0 si no"
   ]
  },
  {
   "cell_type": "markdown",
   "id": "e1cc604d",
   "metadata": {},
   "source": [
    "### Justificación de datos\n",
    "• **¿Por qué trabajar con ellos?**\n",
    "Los accidentes cerebrovasculares son muy importantes, y es oportuno saber anticipadamente si estos se pueden prevenir, por lo que, en base a la investigación del tema y los datos proporcionados por la base de datos, con este tipo de información nos podemos enfocar en que tipo de personas en base a la edad, genero y el tipo de residencia es la que es mas predecible que sufra una lesión cerebrovascular y así anticiparnos a la causa.\n",
    "\n",
    "• **¿Qué beneficio obtenemos al trabajar con estos datos?**\n",
    "Se puede apreciar que tipo de pacientes son los que comúnmente tienden a tener un problema cerebrovascular en base a sectores como lo son la edad, el genero, tipo de residencia y así como saber si el que tenga otras enfermedades tenga que ver con la causa del problema cerebrovascular, o descartar datos que nos lleven a la causa misma."
   ]
  },
  {
   "cell_type": "markdown",
   "id": "dc823adb",
   "metadata": {},
   "source": [
    "### Objetivo final\n",
    "Realizar una predicción de los accidentes cardiovasculares en cualquier momento de la vida de una persona."
   ]
  },
  {
   "cell_type": "markdown",
   "id": "bd7a56a4",
   "metadata": {},
   "source": [
    "### Limpieza de datos\n",
    "Importamos nuestra base de datos la cual lleva por nombre \"healthcare-dataset-stroke-data.csv\" cuyos datos sin manipulación son los siguientes:"
   ]
  },
  {
   "cell_type": "code",
   "execution_count": 72,
   "id": "9d4a34bc",
   "metadata": {},
   "outputs": [
    {
     "name": "stdout",
     "output_type": "stream",
     "text": [
      "La base sin manipulación es:\n"
     ]
    },
    {
     "data": {
      "text/html": [
       "<div>\n",
       "<style scoped>\n",
       "    .dataframe tbody tr th:only-of-type {\n",
       "        vertical-align: middle;\n",
       "    }\n",
       "\n",
       "    .dataframe tbody tr th {\n",
       "        vertical-align: top;\n",
       "    }\n",
       "\n",
       "    .dataframe thead th {\n",
       "        text-align: right;\n",
       "    }\n",
       "</style>\n",
       "<table border=\"1\" class=\"dataframe\">\n",
       "  <thead>\n",
       "    <tr style=\"text-align: right;\">\n",
       "      <th></th>\n",
       "      <th>id</th>\n",
       "      <th>gender</th>\n",
       "      <th>age</th>\n",
       "      <th>hypertension</th>\n",
       "      <th>heart_disease</th>\n",
       "      <th>ever_married</th>\n",
       "      <th>work_type</th>\n",
       "      <th>Residence_type</th>\n",
       "      <th>avg_glucose_level</th>\n",
       "      <th>bmi</th>\n",
       "      <th>smoking_status</th>\n",
       "      <th>stroke</th>\n",
       "    </tr>\n",
       "  </thead>\n",
       "  <tbody>\n",
       "    <tr>\n",
       "      <th>0</th>\n",
       "      <td>9046</td>\n",
       "      <td>Male</td>\n",
       "      <td>67.0</td>\n",
       "      <td>0</td>\n",
       "      <td>1</td>\n",
       "      <td>Yes</td>\n",
       "      <td>Private</td>\n",
       "      <td>Urban</td>\n",
       "      <td>228.69</td>\n",
       "      <td>36.6</td>\n",
       "      <td>formerly smoked</td>\n",
       "      <td>1</td>\n",
       "    </tr>\n",
       "    <tr>\n",
       "      <th>1</th>\n",
       "      <td>51676</td>\n",
       "      <td>Female</td>\n",
       "      <td>61.0</td>\n",
       "      <td>0</td>\n",
       "      <td>0</td>\n",
       "      <td>Yes</td>\n",
       "      <td>Self-employed</td>\n",
       "      <td>Rural</td>\n",
       "      <td>202.21</td>\n",
       "      <td>NaN</td>\n",
       "      <td>never smoked</td>\n",
       "      <td>1</td>\n",
       "    </tr>\n",
       "    <tr>\n",
       "      <th>2</th>\n",
       "      <td>31112</td>\n",
       "      <td>Male</td>\n",
       "      <td>80.0</td>\n",
       "      <td>0</td>\n",
       "      <td>1</td>\n",
       "      <td>Yes</td>\n",
       "      <td>Private</td>\n",
       "      <td>Rural</td>\n",
       "      <td>105.92</td>\n",
       "      <td>32.5</td>\n",
       "      <td>never smoked</td>\n",
       "      <td>1</td>\n",
       "    </tr>\n",
       "    <tr>\n",
       "      <th>3</th>\n",
       "      <td>60182</td>\n",
       "      <td>Female</td>\n",
       "      <td>49.0</td>\n",
       "      <td>0</td>\n",
       "      <td>0</td>\n",
       "      <td>Yes</td>\n",
       "      <td>Private</td>\n",
       "      <td>Urban</td>\n",
       "      <td>171.23</td>\n",
       "      <td>34.4</td>\n",
       "      <td>smokes</td>\n",
       "      <td>1</td>\n",
       "    </tr>\n",
       "    <tr>\n",
       "      <th>4</th>\n",
       "      <td>1665</td>\n",
       "      <td>Female</td>\n",
       "      <td>79.0</td>\n",
       "      <td>1</td>\n",
       "      <td>0</td>\n",
       "      <td>Yes</td>\n",
       "      <td>Self-employed</td>\n",
       "      <td>Rural</td>\n",
       "      <td>174.12</td>\n",
       "      <td>24.0</td>\n",
       "      <td>never smoked</td>\n",
       "      <td>1</td>\n",
       "    </tr>\n",
       "    <tr>\n",
       "      <th>...</th>\n",
       "      <td>...</td>\n",
       "      <td>...</td>\n",
       "      <td>...</td>\n",
       "      <td>...</td>\n",
       "      <td>...</td>\n",
       "      <td>...</td>\n",
       "      <td>...</td>\n",
       "      <td>...</td>\n",
       "      <td>...</td>\n",
       "      <td>...</td>\n",
       "      <td>...</td>\n",
       "      <td>...</td>\n",
       "    </tr>\n",
       "    <tr>\n",
       "      <th>5105</th>\n",
       "      <td>18234</td>\n",
       "      <td>Female</td>\n",
       "      <td>80.0</td>\n",
       "      <td>1</td>\n",
       "      <td>0</td>\n",
       "      <td>Yes</td>\n",
       "      <td>Private</td>\n",
       "      <td>Urban</td>\n",
       "      <td>83.75</td>\n",
       "      <td>NaN</td>\n",
       "      <td>never smoked</td>\n",
       "      <td>0</td>\n",
       "    </tr>\n",
       "    <tr>\n",
       "      <th>5106</th>\n",
       "      <td>44873</td>\n",
       "      <td>Female</td>\n",
       "      <td>81.0</td>\n",
       "      <td>0</td>\n",
       "      <td>0</td>\n",
       "      <td>Yes</td>\n",
       "      <td>Self-employed</td>\n",
       "      <td>Urban</td>\n",
       "      <td>125.20</td>\n",
       "      <td>40.0</td>\n",
       "      <td>never smoked</td>\n",
       "      <td>0</td>\n",
       "    </tr>\n",
       "    <tr>\n",
       "      <th>5107</th>\n",
       "      <td>19723</td>\n",
       "      <td>Female</td>\n",
       "      <td>35.0</td>\n",
       "      <td>0</td>\n",
       "      <td>0</td>\n",
       "      <td>Yes</td>\n",
       "      <td>Self-employed</td>\n",
       "      <td>Rural</td>\n",
       "      <td>82.99</td>\n",
       "      <td>30.6</td>\n",
       "      <td>never smoked</td>\n",
       "      <td>0</td>\n",
       "    </tr>\n",
       "    <tr>\n",
       "      <th>5108</th>\n",
       "      <td>37544</td>\n",
       "      <td>Male</td>\n",
       "      <td>51.0</td>\n",
       "      <td>0</td>\n",
       "      <td>0</td>\n",
       "      <td>Yes</td>\n",
       "      <td>Private</td>\n",
       "      <td>Rural</td>\n",
       "      <td>166.29</td>\n",
       "      <td>25.6</td>\n",
       "      <td>formerly smoked</td>\n",
       "      <td>0</td>\n",
       "    </tr>\n",
       "    <tr>\n",
       "      <th>5109</th>\n",
       "      <td>44679</td>\n",
       "      <td>Female</td>\n",
       "      <td>44.0</td>\n",
       "      <td>0</td>\n",
       "      <td>0</td>\n",
       "      <td>Yes</td>\n",
       "      <td>Govt_job</td>\n",
       "      <td>Urban</td>\n",
       "      <td>85.28</td>\n",
       "      <td>26.2</td>\n",
       "      <td>Unknown</td>\n",
       "      <td>0</td>\n",
       "    </tr>\n",
       "  </tbody>\n",
       "</table>\n",
       "<p>5110 rows × 12 columns</p>\n",
       "</div>"
      ],
      "text/plain": [
       "         id  gender   age  hypertension  heart_disease ever_married  \\\n",
       "0      9046    Male  67.0             0              1          Yes   \n",
       "1     51676  Female  61.0             0              0          Yes   \n",
       "2     31112    Male  80.0             0              1          Yes   \n",
       "3     60182  Female  49.0             0              0          Yes   \n",
       "4      1665  Female  79.0             1              0          Yes   \n",
       "...     ...     ...   ...           ...            ...          ...   \n",
       "5105  18234  Female  80.0             1              0          Yes   \n",
       "5106  44873  Female  81.0             0              0          Yes   \n",
       "5107  19723  Female  35.0             0              0          Yes   \n",
       "5108  37544    Male  51.0             0              0          Yes   \n",
       "5109  44679  Female  44.0             0              0          Yes   \n",
       "\n",
       "          work_type Residence_type  avg_glucose_level   bmi   smoking_status  \\\n",
       "0           Private          Urban             228.69  36.6  formerly smoked   \n",
       "1     Self-employed          Rural             202.21   NaN     never smoked   \n",
       "2           Private          Rural             105.92  32.5     never smoked   \n",
       "3           Private          Urban             171.23  34.4           smokes   \n",
       "4     Self-employed          Rural             174.12  24.0     never smoked   \n",
       "...             ...            ...                ...   ...              ...   \n",
       "5105        Private          Urban              83.75   NaN     never smoked   \n",
       "5106  Self-employed          Urban             125.20  40.0     never smoked   \n",
       "5107  Self-employed          Rural              82.99  30.6     never smoked   \n",
       "5108        Private          Rural             166.29  25.6  formerly smoked   \n",
       "5109       Govt_job          Urban              85.28  26.2          Unknown   \n",
       "\n",
       "      stroke  \n",
       "0          1  \n",
       "1          1  \n",
       "2          1  \n",
       "3          1  \n",
       "4          1  \n",
       "...      ...  \n",
       "5105       0  \n",
       "5106       0  \n",
       "5107       0  \n",
       "5108       0  \n",
       "5109       0  \n",
       "\n",
       "[5110 rows x 12 columns]"
      ]
     },
     "execution_count": 72,
     "metadata": {},
     "output_type": "execute_result"
    }
   ],
   "source": [
    "import pandas as pd\n",
    "import numpy as np\n",
    "import json\n",
    "df = pd.read_csv(\"C:/Users/Daniela/Desktop/Daniela/Facultad/7mo sem/Mineria/AVANCE PIA/BASE 2/healthcare-dataset-stroke-data.csv\")\n",
    "print(\"La base sin manipulación es:\")\n",
    "df"
   ]
  },
  {
   "cell_type": "code",
   "execution_count": 73,
   "id": "8ccaa9af",
   "metadata": {},
   "outputs": [
    {
     "name": "stdout",
     "output_type": "stream",
     "text": [
      "<class 'pandas.core.frame.DataFrame'>\n",
      "RangeIndex: 5110 entries, 0 to 5109\n",
      "Data columns (total 12 columns):\n",
      " #   Column             Non-Null Count  Dtype  \n",
      "---  ------             --------------  -----  \n",
      " 0   id                 5110 non-null   int64  \n",
      " 1   gender             5110 non-null   object \n",
      " 2   age                5110 non-null   float64\n",
      " 3   hypertension       5110 non-null   int64  \n",
      " 4   heart_disease      5110 non-null   int64  \n",
      " 5   ever_married       5110 non-null   object \n",
      " 6   work_type          5110 non-null   object \n",
      " 7   Residence_type     5110 non-null   object \n",
      " 8   avg_glucose_level  5110 non-null   float64\n",
      " 9   bmi                4909 non-null   float64\n",
      " 10  smoking_status     5110 non-null   object \n",
      " 11  stroke             5110 non-null   int64  \n",
      "dtypes: float64(3), int64(4), object(5)\n",
      "memory usage: 479.2+ KB\n"
     ]
    }
   ],
   "source": [
    "df.info()"
   ]
  },
  {
   "cell_type": "markdown",
   "id": "13ef3054",
   "metadata": {},
   "source": [
    "Para el enfoque que le queremos dar a nuestra investigación, decidimos dejar las columnas que nosotros pensamos que mas influyen al diagnosticar un problema cerebrovascular, como lo es la edad, la hipertensión, si esta enfermo del corazón, su nivel de glucosa, IMC, el estatus de fumador, y si ya ha padecido de un ataque cerebovascular. Tambien se nos hizo interesante dejar el sexo, para ver a que género ataca más esta enfermedad."
   ]
  },
  {
   "cell_type": "code",
   "execution_count": 74,
   "id": "3a878215",
   "metadata": {
    "scrolled": false
   },
   "outputs": [
    {
     "data": {
      "text/html": [
       "<div>\n",
       "<style scoped>\n",
       "    .dataframe tbody tr th:only-of-type {\n",
       "        vertical-align: middle;\n",
       "    }\n",
       "\n",
       "    .dataframe tbody tr th {\n",
       "        vertical-align: top;\n",
       "    }\n",
       "\n",
       "    .dataframe thead th {\n",
       "        text-align: right;\n",
       "    }\n",
       "</style>\n",
       "<table border=\"1\" class=\"dataframe\">\n",
       "  <thead>\n",
       "    <tr style=\"text-align: right;\">\n",
       "      <th></th>\n",
       "      <th>ID</th>\n",
       "      <th>Sexo</th>\n",
       "      <th>Edad</th>\n",
       "      <th>Hipertensión</th>\n",
       "      <th>Enfermo del corazon</th>\n",
       "      <th>Nivel de glucosa</th>\n",
       "      <th>IMC</th>\n",
       "      <th>Estado respecto a si fuma</th>\n",
       "      <th>stroke</th>\n",
       "    </tr>\n",
       "  </thead>\n",
       "  <tbody>\n",
       "    <tr>\n",
       "      <th>0</th>\n",
       "      <td>9046</td>\n",
       "      <td>Male</td>\n",
       "      <td>67.0</td>\n",
       "      <td>0</td>\n",
       "      <td>1</td>\n",
       "      <td>228.69</td>\n",
       "      <td>36.6</td>\n",
       "      <td>formerly smoked</td>\n",
       "      <td>1</td>\n",
       "    </tr>\n",
       "    <tr>\n",
       "      <th>1</th>\n",
       "      <td>51676</td>\n",
       "      <td>Female</td>\n",
       "      <td>61.0</td>\n",
       "      <td>0</td>\n",
       "      <td>0</td>\n",
       "      <td>202.21</td>\n",
       "      <td>NaN</td>\n",
       "      <td>never smoked</td>\n",
       "      <td>1</td>\n",
       "    </tr>\n",
       "    <tr>\n",
       "      <th>2</th>\n",
       "      <td>31112</td>\n",
       "      <td>Male</td>\n",
       "      <td>80.0</td>\n",
       "      <td>0</td>\n",
       "      <td>1</td>\n",
       "      <td>105.92</td>\n",
       "      <td>32.5</td>\n",
       "      <td>never smoked</td>\n",
       "      <td>1</td>\n",
       "    </tr>\n",
       "    <tr>\n",
       "      <th>3</th>\n",
       "      <td>60182</td>\n",
       "      <td>Female</td>\n",
       "      <td>49.0</td>\n",
       "      <td>0</td>\n",
       "      <td>0</td>\n",
       "      <td>171.23</td>\n",
       "      <td>34.4</td>\n",
       "      <td>smokes</td>\n",
       "      <td>1</td>\n",
       "    </tr>\n",
       "    <tr>\n",
       "      <th>4</th>\n",
       "      <td>1665</td>\n",
       "      <td>Female</td>\n",
       "      <td>79.0</td>\n",
       "      <td>1</td>\n",
       "      <td>0</td>\n",
       "      <td>174.12</td>\n",
       "      <td>24.0</td>\n",
       "      <td>never smoked</td>\n",
       "      <td>1</td>\n",
       "    </tr>\n",
       "    <tr>\n",
       "      <th>...</th>\n",
       "      <td>...</td>\n",
       "      <td>...</td>\n",
       "      <td>...</td>\n",
       "      <td>...</td>\n",
       "      <td>...</td>\n",
       "      <td>...</td>\n",
       "      <td>...</td>\n",
       "      <td>...</td>\n",
       "      <td>...</td>\n",
       "    </tr>\n",
       "    <tr>\n",
       "      <th>5105</th>\n",
       "      <td>18234</td>\n",
       "      <td>Female</td>\n",
       "      <td>80.0</td>\n",
       "      <td>1</td>\n",
       "      <td>0</td>\n",
       "      <td>83.75</td>\n",
       "      <td>NaN</td>\n",
       "      <td>never smoked</td>\n",
       "      <td>0</td>\n",
       "    </tr>\n",
       "    <tr>\n",
       "      <th>5106</th>\n",
       "      <td>44873</td>\n",
       "      <td>Female</td>\n",
       "      <td>81.0</td>\n",
       "      <td>0</td>\n",
       "      <td>0</td>\n",
       "      <td>125.20</td>\n",
       "      <td>40.0</td>\n",
       "      <td>never smoked</td>\n",
       "      <td>0</td>\n",
       "    </tr>\n",
       "    <tr>\n",
       "      <th>5107</th>\n",
       "      <td>19723</td>\n",
       "      <td>Female</td>\n",
       "      <td>35.0</td>\n",
       "      <td>0</td>\n",
       "      <td>0</td>\n",
       "      <td>82.99</td>\n",
       "      <td>30.6</td>\n",
       "      <td>never smoked</td>\n",
       "      <td>0</td>\n",
       "    </tr>\n",
       "    <tr>\n",
       "      <th>5108</th>\n",
       "      <td>37544</td>\n",
       "      <td>Male</td>\n",
       "      <td>51.0</td>\n",
       "      <td>0</td>\n",
       "      <td>0</td>\n",
       "      <td>166.29</td>\n",
       "      <td>25.6</td>\n",
       "      <td>formerly smoked</td>\n",
       "      <td>0</td>\n",
       "    </tr>\n",
       "    <tr>\n",
       "      <th>5109</th>\n",
       "      <td>44679</td>\n",
       "      <td>Female</td>\n",
       "      <td>44.0</td>\n",
       "      <td>0</td>\n",
       "      <td>0</td>\n",
       "      <td>85.28</td>\n",
       "      <td>26.2</td>\n",
       "      <td>Unknown</td>\n",
       "      <td>0</td>\n",
       "    </tr>\n",
       "  </tbody>\n",
       "</table>\n",
       "<p>5110 rows × 9 columns</p>\n",
       "</div>"
      ],
      "text/plain": [
       "         ID    Sexo  Edad  Hipertensión  Enfermo del corazon  \\\n",
       "0      9046    Male  67.0             0                    1   \n",
       "1     51676  Female  61.0             0                    0   \n",
       "2     31112    Male  80.0             0                    1   \n",
       "3     60182  Female  49.0             0                    0   \n",
       "4      1665  Female  79.0             1                    0   \n",
       "...     ...     ...   ...           ...                  ...   \n",
       "5105  18234  Female  80.0             1                    0   \n",
       "5106  44873  Female  81.0             0                    0   \n",
       "5107  19723  Female  35.0             0                    0   \n",
       "5108  37544    Male  51.0             0                    0   \n",
       "5109  44679  Female  44.0             0                    0   \n",
       "\n",
       "      Nivel de glucosa   IMC Estado respecto a si fuma  stroke  \n",
       "0               228.69  36.6           formerly smoked       1  \n",
       "1               202.21   NaN              never smoked       1  \n",
       "2               105.92  32.5              never smoked       1  \n",
       "3               171.23  34.4                    smokes       1  \n",
       "4               174.12  24.0              never smoked       1  \n",
       "...                ...   ...                       ...     ...  \n",
       "5105             83.75   NaN              never smoked       0  \n",
       "5106            125.20  40.0              never smoked       0  \n",
       "5107             82.99  30.6              never smoked       0  \n",
       "5108            166.29  25.6           formerly smoked       0  \n",
       "5109             85.28  26.2                   Unknown       0  \n",
       "\n",
       "[5110 rows x 9 columns]"
      ]
     },
     "execution_count": 74,
     "metadata": {},
     "output_type": "execute_result"
    }
   ],
   "source": [
    "df.rename(columns={'id':'ID','gender':'Sexo','age':'Edad','hypertension':'Hipertensión','heart_disease':'Enfermo del corazon','avg_glucose_level':'Nivel de glucosa','bmi':'IMC','smoking_status':\"Estado respecto a si fuma\"},inplace=True)\n",
    "#Modifica los nombres de las columnas, con ayuda de: https://www.analyticslane.com/2019/05/06/como-cambiar-el-nombre-de-las-columnas-en-pandas/\n",
    "cf=df.drop(['ever_married','work_type','Residence_type'],axis=1) #Guarda la base que necesitamos en otra variable\n",
    "#Con ayuda de: https://www.analyticslane.com/2019/03/25/como-eliminar-columnas-y-filas-en-un-dataframe-pandas/\n",
    "cf"
   ]
  },
  {
   "cell_type": "markdown",
   "id": "b42a384a",
   "metadata": {},
   "source": [
    "Nuestra base de datos cuenta con datos nulos, en la colmna de IMC:"
   ]
  },
  {
   "cell_type": "code",
   "execution_count": 75,
   "id": "7caa3a46",
   "metadata": {
    "scrolled": true
   },
   "outputs": [
    {
     "data": {
      "text/plain": [
       "ID                             0\n",
       "Sexo                           0\n",
       "Edad                           0\n",
       "Hipertensión                   0\n",
       "Enfermo del corazon            0\n",
       "Nivel de glucosa               0\n",
       "IMC                          201\n",
       "Estado respecto a si fuma      0\n",
       "stroke                         0\n",
       "dtype: int64"
      ]
     },
     "execution_count": 75,
     "metadata": {},
     "output_type": "execute_result"
    }
   ],
   "source": [
    "cf.isnull().sum()"
   ]
  },
  {
   "cell_type": "markdown",
   "id": "28a1307e",
   "metadata": {},
   "source": [
    "Para no perder ningun registro, y poder seguir trabajando con ellos, rellenamos los datos faltantes con el promedio de IMC."
   ]
  },
  {
   "cell_type": "code",
   "execution_count": 76,
   "id": "025963c8",
   "metadata": {},
   "outputs": [
    {
     "data": {
      "text/plain": [
       "ID                           0\n",
       "Sexo                         0\n",
       "Edad                         0\n",
       "Hipertensión                 0\n",
       "Enfermo del corazon          0\n",
       "Nivel de glucosa             0\n",
       "IMC                          0\n",
       "Estado respecto a si fuma    0\n",
       "stroke                       0\n",
       "dtype: int64"
      ]
     },
     "execution_count": 76,
     "metadata": {},
     "output_type": "execute_result"
    }
   ],
   "source": [
    "import numpy as np\n",
    "average_column_name = cf['IMC'].astype(float).mean(axis = 0)\n",
    "cf['IMC'].replace(np.nan, average_column_name, inplace = True)\n",
    "cf.isnull().sum()"
   ]
  },
  {
   "cell_type": "markdown",
   "id": "cc42b0f6",
   "metadata": {},
   "source": [
    "Creando la nueva base de datos con los datos que necesitamos únicamente, la guardamos bajo el nombre NuevaBaseCerebrovascular.csv:"
   ]
  },
  {
   "cell_type": "code",
   "execution_count": 77,
   "id": "3127bfde",
   "metadata": {},
   "outputs": [],
   "source": [
    "cf.to_csv(\"NuevaBaseCerebrovascular.csv\",index=False)\n",
    "#Lugar donde obtuvimos la ayuda: https://aprendeia.com/limpieza-y-procesamiento-de-datos-con-codigo-en-python/"
   ]
  },
  {
   "cell_type": "markdown",
   "id": "536b6478",
   "metadata": {},
   "source": [
    "### Estadística básica\n",
    "\n",
    "Nos interesa realizar un estudio de la muestra que tenemos en nuesrtra base de datos, ver si estar ante ciertas circustancias aumentan el peligro de padecer un ataque cerebrovascular. "
   ]
  },
  {
   "cell_type": "markdown",
   "id": "4c60bae7",
   "metadata": {},
   "source": [
    "A continuación, buscamos entre que edades se muestran nuestros datos y la distribución entre los géneros."
   ]
  },
  {
   "cell_type": "code",
   "execution_count": 78,
   "id": "aeb82286",
   "metadata": {},
   "outputs": [
    {
     "name": "stdout",
     "output_type": "stream",
     "text": [
      "La persona más joven de edad tiene 0.08 años\n",
      "La persona más grande de edad tiene 82.0 años\n",
      "Tomando como 18 años la mayoría de edad, en la base hay 856 menores de edad\n",
      "En respecto al genero tenemos: \n",
      "El número de hombres en la base de datos es: 2115\n",
      "El número de mujeres en la base de datos es: 2994\n",
      "El número de personas con algún otro sexo en la base de datos es: 1\n"
     ]
    }
   ],
   "source": [
    "#Calculo de intervalo de edades\n",
    "mj=min(cf['Edad'])\n",
    "print(\"La persona más joven de edad tiene\",mj,\"años\")\n",
    "mv=max(cf['Edad'])\n",
    "print(\"La persona más grande de edad tiene\",mv,\"años\")\n",
    "mn=sum(cf['Edad']<18)\n",
    "print(\"Tomando como 18 años la mayoría de edad, en la base hay\",mn,\"menores de edad\")\n",
    "\n",
    "#Distribución de generos\n",
    "print(\"En respecto al genero tenemos: \")\n",
    "nh=sum(cf['Sexo']=='Male')\n",
    "nm=sum(cf['Sexo']=='Female')\n",
    "nu=sum(cf['Sexo']=='Other')\n",
    "print(\"El número de hombres en la base de datos es:\",nh)\n",
    "print(\"El número de mujeres en la base de datos es:\",nm)\n",
    "print(\"El número de personas con algún otro sexo en la base de datos es:\",nu)"
   ]
  },
  {
   "cell_type": "markdown",
   "id": "2d741516",
   "metadata": {},
   "source": [
    "Tambien se quizo realizar un analisis respecto a su estatus en respecto a la gente fumadora."
   ]
  },
  {
   "cell_type": "code",
   "execution_count": 105,
   "id": "a6c05efd",
   "metadata": {},
   "outputs": [
    {
     "name": "stdout",
     "output_type": "stream",
     "text": [
      "El número de personas que antes fumaban en la base de datos es: 885\n",
      "El número de personas que fuman en la base de datos es: 789\n",
      "El número de personas que nunca han fumado en la base de datos es: 1892\n",
      "El número de personas del que no se sabe si fuman en la base de datos es: 1544\n"
     ]
    }
   ],
   "source": [
    "asi=sum(cf['Estado respecto a si fuma']=='formerly smoked')\n",
    "si=sum(cf['Estado respecto a si fuma']=='smokes')\n",
    "n=sum(cf['Estado respecto a si fuma']=='never smoked')\n",
    "uk=sum(cf['Estado respecto a si fuma']=='Unknown')\n",
    "print(\"El número de personas que antes fumaban en la base de datos es:\",asi)\n",
    "print(\"El número de personas que fuman en la base de datos es:\",si)\n",
    "print(\"El número de personas que nunca han fumado en la base de datos es:\",n)\n",
    "print(\"El número de personas del que no se sabe si fuman en la base de datos es:\",uk)"
   ]
  },
  {
   "cell_type": "markdown",
   "id": "cbbc28fd",
   "metadata": {},
   "source": [
    "Y con respecto a otros padecimientos como la hipertensión y si padece enfermedades del corazón:"
   ]
  },
  {
   "cell_type": "code",
   "execution_count": 80,
   "id": "65a30c41",
   "metadata": {},
   "outputs": [
    {
     "name": "stdout",
     "output_type": "stream",
     "text": [
      "En la base hay 498 pacientes con hipertensión, lo cual es el 9.74559686888454 % de pacientes\n",
      "En la base hay 276 pacientes que padecen alguna enfermedad del corazón, lo cual es el 5.401174168297456 % de pacientes\n"
     ]
    }
   ],
   "source": [
    "sh=cf['Hipertensión'].sum()\n",
    "sec=cf['Enfermo del corazon'].sum()\n",
    "psh=(sh/len(cf))*100\n",
    "psec=(sec/len(cf))*100\n",
    "print(\"En la base hay\",sh,\"pacientes con hipertensión, lo cual es el\",psh,\"% de pacientes\")\n",
    "print(\"En la base hay\",sec,\"pacientes que padecen alguna enfermedad del corazón, lo cual es el\",psec,\"% de pacientes\")"
   ]
  },
  {
   "cell_type": "markdown",
   "id": "e3799835",
   "metadata": {},
   "source": [
    "Eh igual tratamos con la glucosa y verificar con que pordentaje de nuestra muestra excedia por arriba del promedio:"
   ]
  },
  {
   "cell_type": "code",
   "execution_count": 92,
   "id": "793af456",
   "metadata": {},
   "outputs": [
    {
     "name": "stdout",
     "output_type": "stream",
     "text": [
      "La media del nivel de glucosa es 106.14767710371804  mg/dl y 1644 pacientes de la base de datos se encuentra por encima de este número.\n",
      "Los pacientes con glucosa superior a 140 mg/dl son  821  lo cual significa que padecen de prediabetes.\n",
      "Esto se suele conocer como tolerancia alterada a la glucosa.\n"
     ]
    }
   ],
   "source": [
    "mg=cf['Nivel de glucosa'].mean()\n",
    "ec=sum(cf['Nivel de glucosa']>mg)\n",
    "ex=sum(cf['Nivel de glucosa']>140)\n",
    "print(\"La media del nivel de glucosa es\",mg,\" mg/dl y\",ec,\"pacientes de la base de datos se encuentra por encima de este número.\")\n",
    "print(\"Los pacientes con glucosa superior a 140 mg/dl son \",ex,\" lo cual significa que padecen de prediabetes.\") \n",
    "print(\"Esto se suele conocer como tolerancia alterada a la glucosa.\")"
   ]
  },
  {
   "cell_type": "markdown",
   "id": "c350ab76",
   "metadata": {},
   "source": [
    "Lo mismo se puede conocer respecto al índice de masa corporal (IMC), teniendo en cuenta lo siguiente respecto al IMC:\n",
    "\n",
    "* IMC con valor menor a 25 se considera como un peso normal\n",
    "* IMC con valor entre 25 y 29.99 se considera como sobrepeso\n",
    "* IMC con valor entre 30 y 34.99 se considera como obesidad tipo 1\n",
    "* IMC con valor entre 35 y 39.99 se considera como obesidad tipo 2\n",
    "* Un IMC mayor a 40, se considera una obesidad del tipo 3\n",
    "\n",
    "Conociendo esto, podemos visualizar cuantos pacientes de la base de datos se encuentran en cada rango:"
   ]
  },
  {
   "cell_type": "code",
   "execution_count": 93,
   "id": "6c8941ea",
   "metadata": {},
   "outputs": [
    {
     "name": "stdout",
     "output_type": "stream",
     "text": [
      "El total de pacientes con peso normal es de 1580\n",
      "El total de pacientes con sobrepeso es de 1610\n",
      "El total de pacientes con obesidad tipo 1 es de 1000\n",
      "El total de pacientes con obesidad tipo 2 es de 506\n",
      "El total de pacientes con obesidad tipo 3 es de 414\n"
     ]
    }
   ],
   "source": [
    "pn=sum(cf['IMC']<25)\n",
    "sb=cf[(cf['IMC']>=25) & (cf['IMC']<30)]\n",
    "ob1=cf[(cf['IMC']>=30) & (cf['IMC']<35)]\n",
    "ob2=cf[(cf['IMC']>=35) & (cf['IMC']<40)]\n",
    "ob3=sum(cf['IMC']>=40)\n",
    "print(\"El total de pacientes con peso normal es de\",pn)\n",
    "print(\"El total de pacientes con sobrepeso es de\",sb['IMC'].count())\n",
    "print(\"El total de pacientes con obesidad tipo 1 es de\",ob1['IMC'].count())\n",
    "print(\"El total de pacientes con obesidad tipo 2 es de\",ob2['IMC'].count())\n",
    "print(\"El total de pacientes con obesidad tipo 3 es de\",ob3)"
   ]
  },
  {
   "cell_type": "markdown",
   "id": "81e3d6fe",
   "metadata": {},
   "source": [
    "Como podemos ver, entre más peso, más nivel de glucosa se encontró.\n",
    "\n",
    "Después mostramos la correlación entre las variables."
   ]
  },
  {
   "cell_type": "code",
   "execution_count": 98,
   "id": "cd4a5068",
   "metadata": {},
   "outputs": [
    {
     "data": {
      "text/html": [
       "<div>\n",
       "<style scoped>\n",
       "    .dataframe tbody tr th:only-of-type {\n",
       "        vertical-align: middle;\n",
       "    }\n",
       "\n",
       "    .dataframe tbody tr th {\n",
       "        vertical-align: top;\n",
       "    }\n",
       "\n",
       "    .dataframe thead th {\n",
       "        text-align: right;\n",
       "    }\n",
       "</style>\n",
       "<table border=\"1\" class=\"dataframe\">\n",
       "  <thead>\n",
       "    <tr style=\"text-align: right;\">\n",
       "      <th></th>\n",
       "      <th>ID</th>\n",
       "      <th>Edad</th>\n",
       "      <th>Hipertensión</th>\n",
       "      <th>Enfermo del corazon</th>\n",
       "      <th>Nivel de glucosa</th>\n",
       "      <th>IMC</th>\n",
       "      <th>stroke</th>\n",
       "    </tr>\n",
       "  </thead>\n",
       "  <tbody>\n",
       "    <tr>\n",
       "      <th>ID</th>\n",
       "      <td>1.000000</td>\n",
       "      <td>0.003538</td>\n",
       "      <td>0.003550</td>\n",
       "      <td>-0.001296</td>\n",
       "      <td>0.001092</td>\n",
       "      <td>0.002999</td>\n",
       "      <td>0.006388</td>\n",
       "    </tr>\n",
       "    <tr>\n",
       "      <th>Edad</th>\n",
       "      <td>0.003538</td>\n",
       "      <td>1.000000</td>\n",
       "      <td>0.276398</td>\n",
       "      <td>0.263796</td>\n",
       "      <td>0.238171</td>\n",
       "      <td>0.325942</td>\n",
       "      <td>0.245257</td>\n",
       "    </tr>\n",
       "    <tr>\n",
       "      <th>Hipertensión</th>\n",
       "      <td>0.003550</td>\n",
       "      <td>0.276398</td>\n",
       "      <td>1.000000</td>\n",
       "      <td>0.108306</td>\n",
       "      <td>0.174474</td>\n",
       "      <td>0.160189</td>\n",
       "      <td>0.127904</td>\n",
       "    </tr>\n",
       "    <tr>\n",
       "      <th>Enfermo del corazon</th>\n",
       "      <td>-0.001296</td>\n",
       "      <td>0.263796</td>\n",
       "      <td>0.108306</td>\n",
       "      <td>1.000000</td>\n",
       "      <td>0.161857</td>\n",
       "      <td>0.038899</td>\n",
       "      <td>0.134914</td>\n",
       "    </tr>\n",
       "    <tr>\n",
       "      <th>Nivel de glucosa</th>\n",
       "      <td>0.001092</td>\n",
       "      <td>0.238171</td>\n",
       "      <td>0.174474</td>\n",
       "      <td>0.161857</td>\n",
       "      <td>1.000000</td>\n",
       "      <td>0.168751</td>\n",
       "      <td>0.131945</td>\n",
       "    </tr>\n",
       "    <tr>\n",
       "      <th>IMC</th>\n",
       "      <td>0.002999</td>\n",
       "      <td>0.325942</td>\n",
       "      <td>0.160189</td>\n",
       "      <td>0.038899</td>\n",
       "      <td>0.168751</td>\n",
       "      <td>1.000000</td>\n",
       "      <td>0.038947</td>\n",
       "    </tr>\n",
       "    <tr>\n",
       "      <th>stroke</th>\n",
       "      <td>0.006388</td>\n",
       "      <td>0.245257</td>\n",
       "      <td>0.127904</td>\n",
       "      <td>0.134914</td>\n",
       "      <td>0.131945</td>\n",
       "      <td>0.038947</td>\n",
       "      <td>1.000000</td>\n",
       "    </tr>\n",
       "  </tbody>\n",
       "</table>\n",
       "</div>"
      ],
      "text/plain": [
       "                           ID      Edad  Hipertensión  Enfermo del corazon  \\\n",
       "ID                   1.000000  0.003538      0.003550            -0.001296   \n",
       "Edad                 0.003538  1.000000      0.276398             0.263796   \n",
       "Hipertensión         0.003550  0.276398      1.000000             0.108306   \n",
       "Enfermo del corazon -0.001296  0.263796      0.108306             1.000000   \n",
       "Nivel de glucosa     0.001092  0.238171      0.174474             0.161857   \n",
       "IMC                  0.002999  0.325942      0.160189             0.038899   \n",
       "stroke               0.006388  0.245257      0.127904             0.134914   \n",
       "\n",
       "                     Nivel de glucosa       IMC    stroke  \n",
       "ID                           0.001092  0.002999  0.006388  \n",
       "Edad                         0.238171  0.325942  0.245257  \n",
       "Hipertensión                 0.174474  0.160189  0.127904  \n",
       "Enfermo del corazon          0.161857  0.038899  0.134914  \n",
       "Nivel de glucosa             1.000000  0.168751  0.131945  \n",
       "IMC                          0.168751  1.000000  0.038947  \n",
       "stroke                       0.131945  0.038947  1.000000  "
      ]
     },
     "execution_count": 98,
     "metadata": {},
     "output_type": "execute_result"
    }
   ],
   "source": [
    "cf.corr()"
   ]
  },
  {
   "cell_type": "markdown",
   "id": "2349563d",
   "metadata": {},
   "source": [
    "Ahora observaremos en un mapa de color la correlación entre las variables."
   ]
  },
  {
   "cell_type": "code",
   "execution_count": 99,
   "id": "ce11abb3",
   "metadata": {},
   "outputs": [
    {
     "data": {
      "text/plain": [
       "<AxesSubplot:>"
      ]
     },
     "execution_count": 99,
     "metadata": {},
     "output_type": "execute_result"
    },
    {
     "data": {
      "image/png": "[encoded data removed]",
      "text/plain": [
       "<Figure size 432x288 with 2 Axes>"
      ]
     },
     "metadata": {
      "needs_background": "light"
     },
     "output_type": "display_data"
    }
   ],
   "source": [
    "import seaborn as sns\n",
    "sns.heatmap(cf.corr(),annot= True,linewidths=0.5)"
   ]
  },
  {
   "cell_type": "markdown",
   "id": "e8789506",
   "metadata": {},
   "source": [
    "Con esto podemos ver la relación que hay entre variables y que la correlación con la que nos encontramos en general no es tan alta, las variables con más relación son las variables edad e IMC, después las valiables edad e hipertensión, siguiendo también las variables edad y si esta enfermo del corazón."
   ]
  },
  {
   "cell_type": "markdown",
   "id": "4b72d870",
   "metadata": {},
   "source": [
    "Ahora para poder apreciar mejor la información, iniciaremos realizando el analísis desde la representación gráfica."
   ]
  },
  {
   "cell_type": "markdown",
   "id": "8de45d08",
   "metadata": {},
   "source": [
    "### Parte gráfica\n",
    "\n",
    "Abordamos interesantes puntos en la parte descriptiva por lo que ahora es de interés verlas gráficamente. Comenzando por las edades de los pacientes:"
   ]
  },
  {
   "cell_type": "code",
   "execution_count": 102,
   "id": "8198b54c",
   "metadata": {},
   "outputs": [
    {
     "data": {
      "text/plain": [
       "Text(0.5, 1.0, 'Distribuciones de la edad de pacientes')"
      ]
     },
     "execution_count": 102,
     "metadata": {},
     "output_type": "execute_result"
    },
    {
     "data": {
      "image/png": "[encoded data removed]",
      "text/plain": [
       "<Figure size 432x288 with 1 Axes>"
      ]
     },
     "metadata": {
      "needs_background": "light"
     },
     "output_type": "display_data"
    }
   ],
   "source": [
    "import matplotlib.pyplot as plt\n",
    "cf['Edad'].plot.hist()\n",
    "plt.xlabel(\"Edad\")\n",
    "plt.ylabel(\"Frecuencia\")\n",
    "plt.title(\"Distribuciones de la edad de pacientes\")"
   ]
  },
  {
   "cell_type": "markdown",
   "id": "9330ab49",
   "metadata": {},
   "source": [
    "Cómo se visualiza en nuestra gráfica se puede apreciar que normalmente la frecuencia se mantiene alta (alrededor de 600) a partir de la 4 década, a excepción de los 70´s, ya que se nota que desciende la frecuencia, pero esta vuelve a subir notoriamente en los 80´s. Tenemos que nuestra mayor frecuencia se encuentra entre las edades de 40 y 60, teniendo un alto número en su promedio. Si bien, de igual manera se puede observar que nuestra frecuencia se mantiene alta.\n"
   ]
  },
  {
   "cell_type": "markdown",
   "id": "eec4d1d1",
   "metadata": {},
   "source": [
    "Ahora visualizaremos la distrubución de los datos que hay entre los sexos:"
   ]
  },
  {
   "cell_type": "code",
   "execution_count": 103,
   "id": "d1115d4d",
   "metadata": {},
   "outputs": [
    {
     "name": "stderr",
     "output_type": "stream",
     "text": [
      "C:\\Users\\Daniela\\anaconda3\\lib\\site-packages\\seaborn\\_decorators.py:36: FutureWarning: Pass the following variable as a keyword arg: x. From version 0.12, the only valid positional argument will be `data`, and passing other arguments without an explicit keyword will result in an error or misinterpretation.\n",
      "  warnings.warn(\n"
     ]
    },
    {
     "data": {
      "text/plain": [
       "<AxesSubplot:xlabel='Sexo', ylabel='count'>"
      ]
     },
     "execution_count": 103,
     "metadata": {},
     "output_type": "execute_result"
    },
    {
     "data": {
      "image/png": "[encoded data removed]",
      "text/plain": [
       "<Figure size 432x288 with 1 Axes>"
      ]
     },
     "metadata": {
      "needs_background": "light"
     },
     "output_type": "display_data"
    }
   ],
   "source": [
    "import seaborn as sns\n",
    "sns.countplot(cf['Sexo'])"
   ]
  },
  {
   "cell_type": "markdown",
   "id": "d181d698",
   "metadata": {},
   "source": [
    "Observando nuestra gráfico podemos apreciar que el sexo femenino sobrepasa al masculino por ½ de parte del masculino, a la enfermedad se le da más en personas de sexo femenino abarcando casi el 60% de los datos. \n",
    " \n",
    "Y también podemos visualizar los que son fumadores o no, si lo dejaron o si no se sabe:"
   ]
  },
  {
   "cell_type": "code",
   "execution_count": 104,
   "id": "af59280d",
   "metadata": {},
   "outputs": [
    {
     "name": "stderr",
     "output_type": "stream",
     "text": [
      "C:\\Users\\Daniela\\anaconda3\\lib\\site-packages\\seaborn\\_decorators.py:36: FutureWarning: Pass the following variable as a keyword arg: x. From version 0.12, the only valid positional argument will be `data`, and passing other arguments without an explicit keyword will result in an error or misinterpretation.\n",
      "  warnings.warn(\n"
     ]
    },
    {
     "data": {
      "text/plain": [
       "<AxesSubplot:xlabel='Estado respecto a si fuma', ylabel='count'>"
      ]
     },
     "execution_count": 104,
     "metadata": {},
     "output_type": "execute_result"
    },
    {
     "data": {
      "image/png": "[encoded data removed]",
      "text/plain": [
       "<Figure size 432x288 with 1 Axes>"
      ]
     },
     "metadata": {
      "needs_background": "light"
     },
     "output_type": "display_data"
    }
   ],
   "source": [
    "sns.countplot(cf['Estado respecto a si fuma'])"
   ]
  },
  {
   "cell_type": "markdown",
   "id": "7e7822b1",
   "metadata": {},
   "source": [
    "Respecto a la información proporcionada en la gráfica se puede apreciar que el tabaco no es un factor importante en la enfermedad, ya que la categoria que mas destaca es de las personas no consume tabaco que son alrededor del 37% de los datos, incluso juntando la gente que fuma (verde) con los que normalmente lo hacen (azul) no sobrepasa a la gente que no lo consume (naranja). Por lo que descartaríamos el problema del tabaco como posible causante de la enfermedad, aun y habiendo un número grande de personas que desconocemos su estado respecto al tabaco."
   ]
  },
  {
   "cell_type": "code",
   "execution_count": 107,
   "id": "3c79b656",
   "metadata": {},
   "outputs": [
    {
     "data": {
      "text/plain": [
       "<seaborn.axisgrid.JointGrid at 0x15d95711340>"
      ]
     },
     "execution_count": 107,
     "metadata": {},
     "output_type": "execute_result"
    },
    {
     "data": {
      "image/png": "[encoded data removed]",
      "text/plain": [
       "<Figure size 432x432 with 3 Axes>"
      ]
     },
     "metadata": {
      "needs_background": "light"
     },
     "output_type": "display_data"
    }
   ],
   "source": [
    "sns.jointplot(x='IMC', y='Nivel de glucosa',data=cf)"
   ]
  },
  {
   "cell_type": "markdown",
   "id": "6bd16c83",
   "metadata": {},
   "source": [
    "Gráficamente se demuestra que no necesariamente el nivel de glucosa depende del IMC, además de que se pueden observar algunos datos atípicos. "
   ]
  },
  {
   "cell_type": "code",
   "execution_count": 108,
   "id": "683d6fb8",
   "metadata": {},
   "outputs": [
    {
     "data": {
      "text/plain": [
       "<AxesSubplot:xlabel='Nivel de glucosa', ylabel='Density'>"
      ]
     },
     "execution_count": 108,
     "metadata": {},
     "output_type": "execute_result"
    },
    {
     "data": {
      "image/png": "[encoded data removed]",
      "text/plain": [
       "<Figure size 432x288 with 1 Axes>"
      ]
     },
     "metadata": {
      "needs_background": "light"
     },
     "output_type": "display_data"
    }
   ],
   "source": [
    "sns.kdeplot(cf['Nivel de glucosa'])"
   ]
  },
  {
   "cell_type": "markdown",
   "id": "d14f10a2",
   "metadata": {},
   "source": [
    "Respecto a la gráfica anterior se apreció que el nivel de glucosa no depende del IMC, sin embargo, no ocurre lo mismo con la Densidad, se puede apreciar que a mayor densidad menor Nivel de Glucosa."
   ]
  },
  {
   "cell_type": "code",
   "execution_count": 109,
   "id": "882353ba",
   "metadata": {},
   "outputs": [
    {
     "data": {
      "text/plain": [
       "Text(0.5, 1.0, 'Distribuciones de la edad de personas que padecen Hipertensión')"
      ]
     },
     "execution_count": 109,
     "metadata": {},
     "output_type": "execute_result"
    },
    {
     "data": {
      "image/png": "[encoded data removed]",
      "text/plain": [
       "<Figure size 432x288 with 1 Axes>"
      ]
     },
     "metadata": {
      "needs_background": "light"
     },
     "output_type": "display_data"
    }
   ],
   "source": [
    "af=cf[cf['Hipertensión']==1]\n",
    "af['Edad'].plot.hist()\n",
    "plt.xlabel(\"Edad\")\n",
    "plt.ylabel(\"Frecuencia\")\n",
    "plt.title(\"Distribuciones de la edad de personas que padecen Hipertensión\")"
   ]
  },
  {
   "cell_type": "markdown",
   "id": "73abc5da",
   "metadata": {},
   "source": [
    "En cuanto a las personas que cuentan con Hipertensión, podemos apreciar que a partir de los 10 años la frecuencia va en aumento, hasta llegar a la edad de 60 años donde recae la frecuencia, pero lamentablemente esta vuelve a subir a partir de la séptima década. Y como podemos observar la hipertensión se da más alrededor de los 50 años en delante."
   ]
  },
  {
   "cell_type": "code",
   "execution_count": 110,
   "id": "a613e6c8",
   "metadata": {},
   "outputs": [
    {
     "data": {
      "text/plain": [
       "Text(0.5, 1.0, 'Distribuciones de la edad de personas que padecen enfermedades del corazón')"
      ]
     },
     "execution_count": 110,
     "metadata": {},
     "output_type": "execute_result"
    },
    {
     "data": {
      "image/png": "[encoded data removed]",
      "text/plain": [
       "<Figure size 432x288 with 1 Axes>"
      ]
     },
     "metadata": {
      "needs_background": "light"
     },
     "output_type": "display_data"
    }
   ],
   "source": [
    "bf=cf[cf['Enfermo del corazon']==1]\n",
    "bf['Edad'].plot.hist()\n",
    "plt.xlabel(\"Edad\")\n",
    "plt.ylabel(\"Frecuencia\")\n",
    "plt.title(\"Distribuciones de la edad de personas que padecen enfermedades del corazón\")"
   ]
  },
  {
   "cell_type": "markdown",
   "id": "986fa35f",
   "metadata": {},
   "source": [
    "Al contrario, y como sucedió con las personas que padecen de Hipertensión que casi desde que nacen sufren de ese problema, con las personas que sufren enfermedades del corazón es distinto, la persona lleva su vida cotidiana normal sin ninguna enfermedad, pero a largo plazo podría verse afectada dependiendo de la vida que lleve, ya que casi llegando a los 50 años comienzan los problemas del corazón. Como se puede observar, estas enfermedades se ven más de los 70 años en delante."
   ]
  }
 ],
 "metadata": {
  "kernelspec": {
   "display_name": "Python 3",
   "language": "python",
   "name": "python3"
  },
  "language_info": {
   "codemirror_mode": {
    "name": "ipython",
    "version": 3
   },
   "file_extension": ".py",
   "mimetype": "text/x-python",
   "name": "python",
   "nbconvert_exporter": "python",
   "pygments_lexer": "ipython3",
   "version": "3.8.8"
  }
 },
 "nbformat": 4,
 "nbformat_minor": 5
}
